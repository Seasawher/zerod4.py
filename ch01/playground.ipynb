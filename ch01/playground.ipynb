{
 "cells": [
  {
   "cell_type": "code",
   "execution_count": 24,
   "metadata": {},
   "outputs": [
    {
     "name": "stdout",
     "output_type": "stream",
     "text": []
    }
   ],
   "source": [
    "import numpy as np\n",
    "from ch01.bandit import Bandit\n",
    "\n",
    "bandit = Bandit()\n",
    "Qs = np.zeros(10)\n",
    "ns = np.zeros(10)\n",
    "\n",
    "for n in range(300):\n",
    "    action = np.random.randint(0, 10)  # ランダムな行動をする\n",
    "    reward = bandit.play(action)\n",
    "\n",
    "    ns[action] += 1\n",
    "    Qs[action] += (reward - Qs[action]) / ns[action]\n",
    "    print(Qs)"
   ]
  }
 ],
 "metadata": {
  "kernelspec": {
   "display_name": ".venv",
   "language": "python",
   "name": "python3"
  },
  "language_info": {
   "codemirror_mode": {
    "name": "ipython",
    "version": 3
   },
   "file_extension": ".py",
   "mimetype": "text/x-python",
   "name": "python",
   "nbconvert_exporter": "python",
   "pygments_lexer": "ipython3",
   "version": "3.12.9"
  }
 },
 "nbformat": 4,
 "nbformat_minor": 2
}
